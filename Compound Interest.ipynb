{
 "metadata": {
  "language": "Julia",
  "name": "Compound Interest"
 },
 "nbformat": 3,
 "nbformat_minor": 0,
 "worksheets": [
  {
   "cells": [
    {
     "cell_type": "code",
     "collapsed": false,
     "input": "# Compounds were to be 1, 4, 365, 10000, and 20000. At 10000 and above my browser crashes\n# This is n number of compounds each year for n number of years\n# Again, additional money from additional compounding per year is negligible\n\nfunction compound(n)\n    r = 0.05\n    a = 100\n    for i = 1:n\n        @printf(\"%d. Principle is %1.12f and \", i, a)\n        a = a*((1+r/n)^n)\n        @printf(\"compound result in year %d is %1.12f \\n\", i, a)\n    end\nend",
     "language": "python",
     "metadata": {},
     "outputs": [
      {
       "metadata": {},
       "output_type": "pyout",
       "prompt_number": 21,
       "text": "compound (generic function with 1 method)"
      }
     ],
     "prompt_number": 21
    },
    {
     "cell_type": "code",
     "collapsed": false,
     "input": "compound(1)",
     "language": "python",
     "metadata": {},
     "outputs": [
      {
       "output_type": "stream",
       "stream": "stdout",
       "text": "1"
      },
      {
       "output_type": "stream",
       "stream": "stdout",
       "text": ". Principle is 100.000000000000 and compound result in year 1 is 105.000000000000 \n"
      }
     ],
     "prompt_number": 23
    },
    {
     "cell_type": "code",
     "collapsed": false,
     "input": "compound(4)",
     "language": "python",
     "metadata": {},
     "outputs": [
      {
       "output_type": "stream",
       "stream": "stdout",
       "text": "1"
      },
      {
       "output_type": "stream",
       "stream": "stdout",
       "text": ". Principle is 100.000000000000 and compound result in year 1 is 105.094533691406 \n2. Principle is 105.094533691406 and compound result in year 2 is 110.448610118141 \n3. Principle is 110.448610118141 and compound result in year 3 is 116.075451772300 \n4. Principle is 116.075451772300 and compound result in year 4 is 121.988954770292 \n"
      }
     ],
     "prompt_number": 24
    },
    {
     "cell_type": "code",
     "collapsed": false,
     "input": "compound(365)",
     "language": "python",
     "metadata": {},
     "outputs": [
      {
       "output_type": "stream",
       "stream": "stdout",
       "text": "1"
      },
      {
       "output_type": "stream",
       "stream": "stdout",
       "text": ". Principle is 100.000000000000 and compound result in year 1 is 105.126749646745 \n2. Principle is 105.126749646745 and compound result in year 2 is 110.516334912893 \n3. Principle is 110.516334912893 and compound result in year 3 is 116.182230722635 \n4. Principle is 116.182230722635 and compound result in year 4 is 122.138602825788 \n5. Principle is 122.138602825788 and compound result in year 5 is 128.400343214698 \n6. Principle is 128.400343214698 and compound result in year 6 is 134.983107356877 \n7. Principle is 134.983107356877 and compound result in year 7 is 141.903353336461 \n8. Principle is 141.903353336461 and compound result in year 8 is 149.178383002357 \n9. Principle is 149.178383002357 and compound result in year 9 is 156.826385225949 \n10. Principle is 156.826385225949 and compound result in year 10 is 164.866481376523 \n11. Principle is 164.866481376523 and compound result in year 11 is 173.318773128095 \n12. Principle is 173.318773128095 and compound result in year 12 is 182.204392717182 \n13. Principle is 182.204392717182 and compound result in year 13 is 191.545555777163 \n14. Principle is 191.545555777163 and compound result in year 14 is 201.365616881324 \n15. Principle is 201.365616881324 and compound result in year 15 is 211.689127933453 \n16. Principle is 211.689127933453 and compound result in year 16 is 222.541899551978 \n17. Principle is 222.541899551978 and compound result in year 17 is 233.951065601118 \n18. Principle is 233.951065601118 and compound result in year 18 is 245.945151030379 \n19. Principle is 245.945151030379 and compound result in year 19 is 258.554143192015 \n20. Principle is 258.554143192015 and compound result in year 20 is 271.809566814755 \n21. Principle is 271.809566814755 and compound result in year 21 is 285.744562821249 \n22. Principle is 285.744562821249 and compound result in year 22 is 300.393971186279 \n23. Principle is 300.393971186279 and compound result in year 23 is 315.794418042915 \n24. Principle is 315.794418042915 and compound result in year 24 is 331.984407254369 \n25. Principle is 331.984407254369 and compound result in year 25 is 349.004416680530 \n26. Principle is 349.004416680530 and compound result in year 26 is 366.896999379823 \n27. Principle is 366.896999379823 and compound result in year 27 is 385.706889999445 \n28. Principle is 385.706889999445 and compound result in year 28 is 405.481116619962 \n29. Principle is 405.481116619962 and compound result in year 29 is 426.269118333892 \n30. Principle is 426.269118333892 and compound result in year 30 is 448.122868852257 \n31. Principle is 448.122868852257 and compound result in year 31 is 471.097006448122 \n32. Principle is 471.097006448122 and compound result in year 32 is 495.248970562026 \n33. Principle is 495.248970562026 and compound result in year 33 is 520.639145410822 \n34. Principle is 520.639145410822 and compound result in year 34 is 547.331010958986 \n35. Principle is 547.331010958986 and compound result in year 35 is 575.391301629850 \n36. Principle is 575.391301629850 and compound result in year 36 is 604.890173153559 \n37. Principle is 604.890173153559 and compound result in year 37 is 635.901377968902 \n38. Principle is 635.901377968902 and compound result in year 38 is 668.502449617568 \n39. Principle is 668.502449617568 and compound result in year 39 is 702.774896591816 \n40. Principle is 702.774896591816 and compound result in year 40 is 738.804406120248 \n41. Principle is 738.804406120248 and compound result in year 41 is 776.681058401152 \n42. Principle is 776.681058401152 and compound result in year 42 is 816.499551819066 \n43. Principle is 816.499551819066 and compound result in year 43 is 858.359439707623 \n44. Principle is 858.359439707623 and compound result in year 44 is 902.365379250633 \n45. Principle is 902.365379250633 and compound result in year 45 is 948.627393143712 \n46. Principle is 948.627393143712 and compound result in year 46 is 997.261144670631 \n47. Principle is 997.261144670631 and compound result in year 47 is 1048.388226882155 \n48. Principle is 1048.388226882155 and compound result in year 48 is 1102.136466600349 \n49. Principle is 1102.136466600349 and compound result in year 49 is 1158.640244008428 \n50. Principle is 1158.640244008428 and compound result in year 50 is 1218.040828625172 \n51. Principle is 1218.040828625172 and compound result in year 51 is 1280.486732503920 \n52. Principle is 1280.486732503920 and compound result in year 52 is 1346.134081539178 \n53. Principle is 1346.134081539178 and compound result in year 53 is 1415.147005809198 \n54. Principle is 1415.147005809198 and compound result in year 54 is 1487.698049930440 \n55. Principle is 1487.698049930440 and compound result in year 55 is 1563.968604449877 \n56. Principle is 1563.968604449877 and compound result in year 56 is 1644.149359353710 \n57. Principle is 1644.149359353710 and compound result in year 57 is 1728.440780826332 \n58. Principle is 1728.440780826332 and compound result in year 58 is 1817.053612451537 \n59. Principle is 1817.053612451537 and compound result in year 59 is 1910.209402109059 \n60. Principle is 1910.209402109059 and compound result in year 60 is 2008.141055883770 \n61. Principle is 2008.14105588377"
      },
      {
       "output_type": "stream",
       "stream": "stdout",
       "text": "0 and compound result in year 61 is 2111.093420372427 \n62. Principle is 2111.093420372427 and compound result in year 62 is 2219.323894843822 \n63. Principle is 2219.323894843822 and compound result in year 63 is 2333.103074782849 \n64. Principle is 2333.103074782849 and compound result in year 64 is 2452.715428427469 \n65. Principle is 2452.715428427469 and compound result in year 65 is 2578.460007990028 \n66. Principle is 2578.460007990028 and compound result in year 66 is 2710.651197341111 \n67. Principle is 2710.651197341111 and compound result in year 67 is 2849.619498025278 \n68. Principle is 2849.619498025278 and compound result in year 68 is 2995.712355573858 \n69. Principle is 2995.712355573858 and compound result in year 69 is 3149.295028180729 \n70. Principle is 3149.295028180729 and compound result in year 70 is 3310.751499912934 \n71. Principle is 3310.751499912934 and compound result in year 71 is 3480.485440739317 \n72. Principle is 3480.485440739317 and compound result in year 72 is 3658.921215777421 \n73. Principle is 3658.921215777421 and compound result in year 73 is 3846.504946281958 \n74. Principle is 3846.504946281958 and compound result in year 74 is 4043.705625027487 \n75. Principle is 4043.705625027487 and compound result in year 75 is 4251.016288873981 \n76. Principle is 4251.016288873981 and compound result in year 76 is 4468.955251446889 \n77. Principle is 4468.955251446889 and compound result in year 77 is 4698.067399013622 \n78. Principle is 4698.067399013622 and compound result in year 78 is 4938.925552796382 \n79. Principle is 4938.925552796382 and compound result in year 79 is 5192.131901127356 \n80. Principle is 5192.131901127356 and compound result in year 80 is 5458.319505026923 \n81. Principle is 5458.319505026923 and compound result in year 81 is 5738.153880969090 \n82. Principle is 5738.153880969090 and compound result in year 82 is 6032.334664791342 \n83. Principle is 6032.334664791342 and compound result in year 83 is 6341.597360908992 \n84. Principle is 6341.597360908992 and compound result in year 84 is 6666.715181207367 \n85. Principle is 6666.715181207367 and compound result in year 85 is 7008.500978209393 \n86. Principle is 7008.500978209393 and compound result in year 86 is 7367.809277351844 \n87. Principle is 7367.809277351844 and compound result in year 87 is 7745.538413451305 \n88. Principle is 7745.538413451305 and compound result in year 88 is 8142.632776701397 \n89. Principle is 8142.632776701397 and compound result in year 89 is 8560.085173816657 \n90. Principle is 8560.085173816657 and compound result in year 90 is 8998.939310226351 \n91. Principle is 8998.939310226351 and compound result in year 91 is 9460.292399524153 \n92. Principle is 9460.292399524153 and compound result in year 92 is 9945.297906697775 \n93. Principle is 9945.297906697775 and compound result in year 93 is 10455.168431997114 \n94. Principle is 10455.168431997114 and compound result in year 94 is 10991.178742651093 \n95. Principle is 10991.178742651093 and compound result in year 95 is 11554.668960013039 \n96. Principle is 11554.668960013039 and compound result in year 96 is 12147.047910103031 \n97. Principle is 12147.047910103031 and compound result in year 97 is 12769.796645924151 \n98. Principle is 12769.796645924151 and compound result in year 98 is 13424.472150359088 \n99. Principle is 13424.472150359088 and compound result in year 99 is 14112.711228904967 \n100. Principle is 14112.711228904967 and compound result in year 100 is 14836.234601978957 \n101. Principle is 14836.234601978957 and compound result in year 101 is 15596.851207026133 \n102. Principle is 15596.851207026133 and compound result in year 102 is 16396.462721185646 \n103. Principle is 16396.462721185646 and compound result in year 103 is 17237.068315822664 \n104. Principle is 17237.068315822664 and compound result in year 104 is 18120.769654813252 \n105. Principle is 18120.769654813252 and compound result in year 105 is 19049.776149078818 \n106. Principle is 19049.776149078818 and compound result in year 106 is 20026.410480507380 \n107. Principle is 20026.410480507380 and compound result in year 107 is 21053.114409072441 \n108. Principle is 21053.114409072441 and compound result in year 108 is 22132.454877668326 \n109. Principle is 22132.454877668326 and compound result in year 109 is 23267.130429925124 \n110. Principle is 23267.130429925124 and compound result in year 110 is 24459.977957048948 \n111. Principle is 24459.977957048948 and compound result in year 111 is 25713.979790555793 \n112. Principle is 25713.979790555793 and compound result in year 112 is 27032.271158632124 \n113. Principle is 27032.271158632124 and compound result in year 113 is 28418.148024764374 \n114. Principle is 28418.148024764374 and compound result in year 114 is 29875.075328235376 \n115. Principle is 29875.075328235376 and compound result in year 115 is 31406.695647090408 \n116. Principle is 31406.695647090408 and compound result in year 116 is 33016.838305231809 \n117. Principle is 33016.838305231809 and compound result in year 117 is 34709.528946411563 \n118. Principle is 34709.528946411563 and compound result in year 118 is 36488.999599058479 \n119. Principle is 36488.999599058479 and compound result in year 119 is 38359.699257103894 \n120. Principle is 38359.699257103894 and compound result in year 120 is 40326.305003259811 \n121. Principle is 40326.305003259811 and compound result in year 121 is 42393.733702559635 \n122. Principle is 42393.733702559635 and compound result in year 122 is 44567"
      },
      {
       "output_type": "stream",
       "stream": "stdout",
       "text": ".154295397515 \n123. Principle is 44567.154295397515 and compound result in year 123 is 46852.000720800985 \n124. Principle is 46852.000720800985 and compound result in year 124 is 49253.985502247488 \n125. Principle is 49253.985502247488 and compound result in year 125 is 51779.114029991666 \n126. Principle is 51779.114029991666 and compound result in year 126 is 54433.699575611819 \n127. Principle is 54433.699575611819 and compound result in year 127 is 57224.379076314588 \n128. Principle is 57224.379076314588 and compound result in year 128 is 60158.129728461412 \n129. Principle is 60158.129728461412 and compound result in year 129 is 63242.286431803543 \n130. Principle is 63242.286431803543 and compound result in year 130 is 66484.560128039317 \n131. Principle is 66484.560128039317 and compound result in year 131 is 69893.057079543360 \n132. Principle is 69893.057079543360 and compound result in year 132 is 73476.299136467947 \n133. Principle is 73476.299136467947 and compound result in year 133 is 77243.245042887924 \n134. Principle is 77243.245042887924 and compound result in year 134 is 81203.312835258344 \n135. Principle is 81203.312835258344 and compound result in year 135 is 85366.403389184969 \n136. Principle is 85366.403389184969 and compound result in year 136 is 89742.925173378695 \n137. Principle is 89742.925173378695 and compound result in year 137 is 94343.820272683282 \n138. Principle is 94343.820272683282 and compound result in year 138 is 99180.591745238562 \n139. Principle is 99180.591745238562 and compound result in year 139 is 104265.332382176915 \n140. Principle is 104265.332382176915 and compound result in year 140 is 109610.754941757390 \n141. Principle is 109610.754941757390 and compound result in year 141 is 115230.223933528177 \n142. Principle is 115230.223933528177 and compound result in year 142 is 121137.789031983499 \n143. Principle is 121137.789031983499 and compound result in year 143 is 127348.220203255099 \n144. Principle is 127348.220203255099 and compound result in year 144 is 133877.044632661185 \n145. Principle is 133877.044632661185 and compound result in year 145 is 140740.585545438429 \n146. Principle is 140740.585545438429 and compound result in year 146 is 147956.003017715673 \n147. Principle is 147956.003017715673 and compound result in year 147 is 155541.336879764043 \n148. Principle is 155541.336879764043 and compound result in year 148 is 163515.551818789390 \n149. Principle is 163515.551818789390 and compound result in year 149 is 171898.584794031864 \n150. Principle is 171898.584794031864 and compound result in year 150 is 180711.394882719091 \n151. Principle is 180711.394882719091 and compound result in year 151 is 189976.015681496385 \n152. Principle is 189976.015681496385 and compound result in year 152 is 199715.610394347226 \n153. Principle is 199715.610394347226 and compound result in year 153 is 209954.529744733503 \n154. Principle is 209954.529744733503 and compound result in year 154 is 220718.372856746195 \n155. Principle is 220718.372856746195 and compound result in year 155 is 232034.051257480140 \n156. Principle is 232034.051257480140 and compound result in year 156 is 243929.856160650495 \n157. Principle is 243929.856160650495 and compound result in year 157 is 256435.529199671582 \n158. Principle is 256435.529199671582 and compound result in year 158 is 269582.336787043721 \n159. Principle is 269582.336787043721 and compound result in year 159 is 283403.148285959673 \n160. Principle is 283403.148285959673 and compound result in year 160 is 297932.518189573544 \n161. Principle is 297932.518189573544 and compound result in year 161 is 313206.772513395175 \n162. Principle is 313206.772513395175 and compound result in year 162 is 329264.099616806256 \n163. Principle is 329264.099616806256 and compound result in year 163 is 346144.645680768066 \n164. Principle is 346144.645680768066 and compound result in year 164 is 363890.615080432675 \n165. Principle is 363890.615080432675 and compound result in year 165 is 382546.375903606007 \n166. Principle is 382546.375903606007 and compound result in year 166 is 402158.570878878934 \n167. Principle is 402158.570878878934 and compound result in year 167 is 422776.233990765526 \n168. Principle is 422776.233990765526 and compound result in year 168 is 444450.913073407777 \n169. Principle is 444450.913073407777 and compound result in year 169 is 467236.798689352465 \n170. Principle is 467236.798689352465 and compound result in year 170 is 491190.859615620226 \n171. Principle is 491190.859615620226 and compound result in year 171 is 516372.985275806452 \n172. Principle is 516372.985275806452 and compound result in year 172 is 542846.135474319104 \n173. Principle is 542846.135474319104 and compound result in year 173 is 570676.497807116248 \n174. Principle is 570676.497807116248 and compound result in year 174 is 599933.653142497758"
      },
      {
       "output_type": "stream",
       "stream": "stdout",
       "text": " \n175. Principle is 599933.653142497758 and compound result in year 175 is 630690.749585683574 \n176. Principle is 630690.749585683574 and compound result in year 176 is 663024.685362119344 \n177. Principle is 663024.685362119344 and compound result in year 177 is 697016.301076752134 \n178. Principle is 697016.301076752134 and compound result in year 178 is 732750.581829957780 \n179. Principle is 732750.581829957780 and compound result in year 179 is 770316.869695445057 \n180. Principle is 770316.869695445057 and compound result in year 180 is 809809.087091371417 \n181. Principle is 809809.087091371417 and compound result in year 181 is 851325.971603134996 \n182. Principle is 851325.971603134996 and compound result in year 182 is 894971.322844944894 \n183. Principle is 894971.322844944894 and compound result in year 183 is 940854.261977364775 \n184. Principle is 940854.261977364775 and compound result in year 184 is 989089.504529672093 \n185. Principle is 989089.504529672093 and compound result in year 185 is 1039797.647209136281 \n186. Principle is 1039797.647209136281 and compound result in year 186 is 1093105.469414290739 \n187. Principle is 1093105.469414290739 and compound result in year 187 is 1149146.250206035329 \n188. Principle is 1149146.250206035329 and compound result in year 188 is 1208060.101529053645 \n189. Principle is 1208060.101529053645 and compound result in year 189 is 1269994.318516658386 \n190. Principle is 1269994.318516658386 and compound result in year 190 is 1335103.747754889308 \n191. Principle is 1335103.747754889308 and compound result in year 191 is 1403551.174426588695 \n192. Principle is 1403551.174426588695 and compound result in year 192 is 1475507.729303385364 \n193. Principle is 1475507.729303385364 and compound result in year 193 is 1551153.316603137879 \n194. Principle is 1551153.316603137879 and compound result in year 194 is 1630677.063782558544 \n195. Principle is 1630677.063782558544 and compound result in year 195 is 1714277.794389578281 \n196. Principle is 1714277.794389578281 and compound result in year 196 is 1802164.525157669326 \n197. Principle is 1802164.525157669326 and compound result in year 197 is 1894556.988584948936 \n198. Principle is 1894556.988584948936 and compound result in year 198 is 1991686.182304605376 \n199. Principle is 1991686.182304605376 and compound result in year 199 is 2093794.946620170493 \n200. Principle is 2093794.946620170493 and compound result in year 200 is 2201138.571649579331 \n201. Principle is 2201138.571649579331 and compound result in year 201 is 2313985.435595985968 \n202. Principle is 2313985.435595985968 and compound result in year 202 is 2432617.675741127692 \n203. Principle is 2432617.675741127692 and compound result in year 203 is 2557331.893838835880 \n204. Principle is 2557331.893838835880 and compound result in year 204 is 2688439.897672308609 \n205. Principle is 2688439.897672308609 and compound result in year 205 is 2826269.480629167985 \n206. Principle is 2826269.480629167985 and compound result in year 206 is 2971165.241243378259 \n207. Principle is 2971165.241243378259 and compound result in year 207 is 3123489.444753025658 \n208. Principle is 3123489.444753025658 and compound result in year 208 is 3283622.928828010336 \n209. Principle is 3283622.928828010336 and compound result in year 209 is 3451966.055732129607 \n210. Principle is 3451966.055732129607 and compound result in year 210 is 3628939.713300124742 \n211. Principle is 3628939.713300124742 and compound result in year 211 is 3814986.367232318036 \n212. Principle is 3814986.367232318036 and compound result in year 212 is 4010571.167337760795 \n213. Principle is 4010571.167337760795 and compound result in year 213 is 4216183.110491695814 \n214. Principle is 4216183.110491695814 and compound result in year 214 is 4432336.263214940205 \n215. Principle is 4432336.263214940205 and compound result in year 215 is 4659571.046931850724 \n216. Principle is 4659571.046931850724 and compound result in year 216 is 4898455.589120249264 \n217. Principle is 4898455.589120249264 and compound result in year 217 is 5149587.143731418997 \n218. Principle is 5149587.143731418997 and compound result in year 218 is 5413593.584431481548 \n219. Principle is 5413593.584431481548 and compound result in year 219 is 5691134.974397517741 \n220. Principle is 5691134.974397517741 and compound result in year 220 is 5982905.216593208723 \n221. Principle is 5982905.216593208723 and compound result in year 221 is 6289633.788649973460 \n222. Principle is 6289633.788649973460 and compound result in year 222 is 6612087.566691122949 \n223. Principle is 6612087.566691122949 and compound result in year 223 is 6951072.742658912204 \n224. Principle is 6951072.742658912204 and compound result in year 224 is 7307436.839938146994 \n225. Principle is 7307436.839938146994 and compound result in year 225 is 7682070.832315769978 \n226. Principle is 7682070.832315769978 and compound result in year 226 is 8075911.371574198827 \n227. Principle is 8075911.371574198827 and compound result in year 227 is 8489943.129287796095 \n228. Principle is 8489943.129287796095 and compound result in year 228 is 8925201.258677387610 \n229. Principle is 8925201.258677387610 and compound result in year 229 is 9382773.982677886263 \n230. Principle is 9382773.982677886263 and compound result in year 230 is 9863805.314689680934 \n231. Principle is 9863805.314689680934 and compound result in year 231 is 10369497.918816123158 \n232. Principle is 10369497.918816123158 and compound result in year 232 is 10901116.116738231853 \n233. Principle is 10901116.116738231853 and compound result in year 233 is 11459989.048744341359 \n234. Principle is 11459989.048744341359 and compound result in year 234 is 12047513.996817827225 \n235. Principle is 12047513.996817827225 and "
      },
      {
       "output_type": "stream",
       "stream": "stdout",
       "text": "compound result in year 235 is 12665159.878091206774 \n236. Principle is 12665159.878091206774 and compound result in year 236 is 13314470.917400904000 \n237. Principle is 13314470.917400904000 and compound result in year 237 is 13997070.508124684915 \n238. Principle is 13997070.508124684915 and compound result in year 238 is 14714665.270954579115 \n239. Principle is 14714665.270954579115 and compound result in year 239 is 15469049.320752913132 \n240. Principle is 15469049.320752913132 and compound result in year 240 is 16262108.752159381285 \n241. Principle is 16262108.752159381285 and compound result in year 241 is 17095826.355163957924 \n242. Principle is 17095826.355163957924 and compound result in year 242 is 17972286.572435420007 \n243. Principle is 17972286.572435420007 and compound result in year 243 is 18893680.710799705237 \n244. Principle is 18893680.710799705237 and compound result in year 244 is 19862312.419897705317 \n245. Principle is 19862312.419897705317 and compound result in year 245 is 20880603.451720144600 \n246. Principle is 20880603.451720144600 and compound result in year 246 is 21951099.715419374406 \n247. Principle is 21951099.715419374406 and compound result in year 247 is 23076477.642536222935 \n248. Principle is 23076477.642536222935 and compound result in year 248 is 24259550.878556076437 \n249. Principle is 24259550.878556076437 and compound result in year 249 is 25503277.317524310201 \n250. Principle is 25503277.317524310201 and compound result in year 250 is 26810766.497308816761 \n251. Principle is 26810766.497308816761 and compound result in year 251 is 28185287.373999152333 \n252. Principle is 28185287.373999152333 and compound result in year 252 is 29630276.494879640639 \n253. Principle is 29630276.494879640639 and compound result in year 253 is 31149346.590410370380 \n254. Principle is 31149346.590410370380 and compound result in year 254 is 32746295.606697525829 \n255. Principle is 32746295.606697525829 and compound result in year 255 is 34425116.201035879552 \n256. Principle is 34425116.201035879552 and compound result in year 256 is 36190005.724263951182 \n257. Principle is 36190005.724263951182 and compound result in year 257 is 38045376.714889548719 \n258. Principle is 38045376.714889548719 and compound result in year 258 is 39995867.931222848594 \n259. Principle is 39995867.931222848594 and compound result in year 259 is 42046355.949099302292 \n260. Principle is 42046355.949099302292 and compound result in year 260 is 44201967.354188784957 \n261. Principle is 44201967.354188784957 and compound result in year 261 is 46468091.559373877943 \n262. Principle is 46468091.559373877943 and compound result in year 262 is 48850394.279243096709 \n263. Principle is 48850394.279243096709 and compound result in year 263 is 51354831.695387601852 \n264. Principle is 51354831.695387601852 and compound result in year 264 is 53987665.347917236388 \n265. Principle is 53987665.347917236388 and compound result in year 265 is 56755477.790427312255 \n266. Principle is 56755477.790427312255 and compound result in year 266 is 59665189.047556333244 \n267. Principle is 59665189.047556333244 and compound result in year 267 is 62724073.916281506419 \n268. Principle is 62724073.916281506419 and compound result in year 268 is 65939780.154208377004 \n269. Principle is 65939780.154208377004 and compound result in year 269 is 69320347.600328505039 \n270. Principle is 69320347.600328505039 and compound result in year 270 is 72874228.276050567627 \n271. Principle is 72874228.276050567627 and compound result in year 271 is 76610307.516760945320 \n272. Principle is 76610307.516760945320 and compound result in year 272 is 80537926.186746537685 \n273. Principle is 80537926.186746537685 and compound result in year 273 is 84666904.033021092415 \n274. Principle is 84666904.033021092415 and compound result in year 274 is 89007564.236443698406 \n275. Principle is 89007564.236443698406 and compound result in year 275 is 93570759.221511662006 \n276. Principle is 93570759.221511662006"
      },
      {
       "output_type": "stream",
       "stream": "stdout",
       "text": " and compound result in year 276 is 98367897.789356872439 \n277. Principle is 98367897.789356872439 and compound result in year 277 is 103410973.641782939434 \n278. Principle is 103410973.641782939434 and compound result in year 278 is 108712595.367658331990 \n279. Principle is 108712595.367658331990 and compound result in year 279 is 114286017.966636791825 \n280. Principle is 114286017.966636791825 and compound result in year 280 is 120145175.989019960165 \n281. Principle is 120145175.989019960165 and compound result in year 281 is 126304718.374617874622 \n282. Principle is 126304718.374617874622 and compound result in year 282 is 132780045.077710524201 \n283. Principle is 132780045.077710524201 and compound result in year 283 is 139587345.569679558277 \n284. Principle is 139587345.569679558277 and compound result in year 284 is 146743639.315573453903 \n285. Principle is 146743639.315573453903 and compound result in year 285 is 154266818.325804978609 \n286. Principle is 154266818.325804978609 and compound result in year 286 is 162175691.889367520809 \n287. Principle is 162175691.889367520809 and compound result in year 287 is 170490033.600411504507 \n288. Principle is 170490033.600411504507 and compound result in year 288 is 179230630.795755565166 \n289. Principle is 179230630.795755565166 and compound result in year 289 is 188419336.526935309172 \n290. Principle is 188419336.526935309172 and compound result in year 290 is 198079124.196728736162 \n291. Principle is 198079124.196728736162 and compound result in year 291 is 208234144.996759593487 \n292. Principle is 208234144.996759593487 and compound result in year 292 is 218909788.289782881737 \n293. Principle is 218909788.289782881737 and compound result in year 293 is 230132745.087618976831 \n294. Principle is 230132745.087618976831 and compound result in year 294 is 241931074.783442437649 \n295. Principle is 241931074.783442437649 and compound result in year 295 is 254334275.305268317461 \n296. Principle is 254334275.305268317461 and compound result in year 296 is 267373356.866031944752 \n297. Principle is 267373356.866031944752 and compound result in year 297 is 281080919.494650781155 \n298. Principle is 281080919.494650781155 and compound result in year 298 is 295491234.541909635067 \n299. Principle is 295491234.541909635067 and compound result in year 299 is 310640330.364948630333 \n300. Principle is 310640330.364948630333 and compound result in year 300 is 326566082.404580295086 \n301. Principle is 326566082.404580295086 and compound result in year 301 is 343308307.880645215511 \n302. Principle is 343308307.880645215511 and compound result in year 302 is 360908865.342161536217 \n303. Principle is 360908865.342161536217 and compound result in year 303 is 379411759.321161210537 \n304. Principle is 379411759.321161210537 and compound result in year 304 is 398863250.351866841316 \n305. Principle is 398863250.351866841316 and compound result in year 305 is 419311970.630275726318 \n306. Principle is 419311970.630275726318 and compound result in year 306 is 440809045.603321790695 \n307. Principle is 440809045.603321790695 and compound result in year 307 is 463408221.791608929634 \n308. Principle is 463408221.791608929634 and compound result in year 308 is 487166001.165296316147 \n309. Principle is 487166001.165296316147 and compound result in year 309 is 512141782.409098565578 \n310. Principle is 512141782.409098565578 and compound result in year 310 is 538398009.429589152336 \n311. Principle is 538398009.429589152336 and compound result in year 311 is 566000327.476101279259 \n312. Principle is 566000327.476101279259 and compound result in year 312 is 595017747.265556335449 \n313. Principle is 595017747.265556335449 and compound result in year 313 is 625522817.521561741829 \n314. Principle is 625522817.521561741829 and compound result in year 314 is 657591806.359156131744 \n315. Principle is 657591806.359156131744 and compound result in year 315 is 691304891.968696475029 \n316. Principle is 691304891.968696475029 and compound result in year 316 is 726746363.075630664825 \n317. Principle is 726746363.075630664825 and compound result in year 317 is 764004829"
      },
      {
       "output_type": "stream",
       "stream": "stdout",
       "text": ".677340745926 \n318. Principle is 764004829.677340745926 and compound result in year 318 is 803173444.583936452866 \n319. Principle is 803173444.583936452866 and compound result in year 319 is 844350136.316890954971 \n320. Principle is 844350136.316890954971 and compound result in year 320 is 887637853.947805881500 \n321. Principle is 887637853.947805881500 and compound result in year 321 is 933144824.489447593689 \n322. Principle is 933144824.489447593689 and compound result in year 322 is 980984823.482577085495 \n323. Principle is 980984823.482577085495 and compound result in year 323 is 1031277459.455089569092 \n324. Principle is 1031277459.455089569092 and compound result in year 324 is 1084148472.964661359787 \n325. Principle is 1084148472.964661359787 and compound result in year 325 is 1139730050.972565650940 \n326. Principle is 1139730050.972565650940 and compound result in year 326 is 1198161157.334645271301 \n327. Principle is 1198161157.334645271301 and compound result in year 327 is 1259587880.235731840134 \n328. Principle is 1259587880.235731840134 and compound result in year 328 is 1324163797.436156749725 \n329. Principle is 1324163797.436156749725 and compound result in year 329 is 1392050360.243536472321 \n330. Principle is 1392050360.243536472321 and compound result in year 330 is 1463417297.169830799103 \n331. Principle is 1463417297.169830799103 and compound result in year 331 is 1538443038.282886505127 \n332. Principle is 1538443038.282886505127 and compound result in year 332 is 1617315161.313423395157 \n333. Principle is 1617315161.313423395157 and compound result in year 333 is 1700230860.632808446884 \n334. Principle is 1700230860.632808446884 and compound result in year 334 is 1787397440.274145841599 \n335. Principle is 1787397440.274145841599 and compound result in year 335 is 1879032832.229325056076 \n336. Principle is 1879032832.229325056076 and compound result in year 336 is 1975366141.317859411240 \n337. Principle is 1975366141.317859411240 and compound result in year 337 is 2076638217.989787817001 \n338. Principle is 2076638217.989787817001 and compound result in year 338 is 2183102260.494745254517 \n339. Principle is 2183102260.494745254517 and compound result in year 339 is 2295024447.922735691071 \n340. Principle is 2295024447.922735691071 and compound result in year 340 is 2412684605.699319839478 \n341. Principle is 2412684605.699319839478 and compound result in year 341 is 2536376905.199074268341 \n342. Principle is 2536376905.199074268341 and compound result in year 342 is 2666410599.226482868195 \n343. Principle is 2666410599.226482868195 and compound result in year 343 is 2803110795.203090667725 \n344. Principle is 2803110795.203090667725 and compound result in year 344 is 2946819267.994028568268 \n345. Principle is 2946819267.994028568268 and compound result in year 345 is 3097895314.406117916107 \n346. Principle is 3097895314.406117916107 and compound result in year 346 is 3256716651.493955135345 \n347. Principle is 3256716651.493955135345 and compound result in year 347 is 3423680360.919898509979 \n348. Principle is 3423680360.919898509979 and compound result in year 348 is 3599203881.729028224945 \n349. Principle is 3599203881.729028224945 and compound result in year 349 is 3783726054.021193981171 \n350. Principle is 3783726054.021193981171 and compound result in year 350 is 3977708216.129513740540 \n351. Principle is 3977708216.129513740540 and compound result in year 351 is 4181635358.048470020294 \n352. Principle is 4181635358.048470020294 and compound result in year 352 is 4396017333.995372772217 \n353. Principle is 4396017333.995372772217 and compound result in year 353 is 4621390137.136817932129 \n354. Principle is 4621390137.136817932129 and compound result in year 354 is 4858317239.667175292969 \n355. Principle is 4858317239.667175292969 and compound result in year 355 is 5107391001.589550971985 \n356. Principle is 5107391001.589550971985 and compound result in year 356 is 5369234151.721415519714 \n357. Principle is 5369234151.721415519714 and compound result in year 357 is 5644501344.627690315247 \n358. Principle is 5644501344.627690315247 and compound result in year 358 is 5933880797.373891830444 \n359. Principle is 5933880797."
      },
      {
       "output_type": "stream",
       "stream": "stdout",
       "text": "373891830444 and compound result in year 359 is 6238096010.191511154175 \n360. Principle is 6238096010.191511154175 and compound result in year 360 is 6557907575.357602119446 \n361. Principle is 6557907575.357602119446 and compound result in year 361 is 6894115078.811094284058 \n362. Principle is 6894115078.811094284058 and compound result in year 362 is 7247559099.260217666626 \n363. Principle is 7247559099.260217666626 and compound result in year 363 is 7619123309.779156684875 \n364. Principle is 7619123309.779156684875 and compound result in year 364 is 8009736687.148304939270 \n365. Principle is 8009736687.148304939270 and compound result in year 365 is 8420375834.461863517761 \n"
      }
     ],
     "prompt_number": 25
    },
    {
     "cell_type": "code",
     "collapsed": false,
     "input": "# This would be the yearly result with compounding of 1, 4, 365, 10000, and 20000 times a year\n# Multiple compoundings per year has a negligible effect the on the resultant amount\n\nfunction comp(n)\n    r = 0.05\n    a = 100\n    \n    @printf(\"Principle is %1.12f and \", a)\n    a = a*(e^(n*(log(1+r/n))))\n    @printf(\"compound result is %1.12f \\n\", a)\nend",
     "language": "python",
     "metadata": {},
     "outputs": [
      {
       "metadata": {},
       "output_type": "pyout",
       "prompt_number": 11,
       "text": "comp (generic function with 1 method)"
      }
     ],
     "prompt_number": 11
    },
    {
     "cell_type": "code",
     "collapsed": false,
     "input": "comp(1)",
     "language": "python",
     "metadata": {},
     "outputs": [
      {
       "output_type": "stream",
       "stream": "stdout",
       "text": "Principle is "
      },
      {
       "output_type": "stream",
       "stream": "stdout",
       "text": "100.000000000000 and compound result is 105.000000000000 \n"
      }
     ],
     "prompt_number": 12
    },
    {
     "cell_type": "code",
     "collapsed": false,
     "input": "comp(4)",
     "language": "python",
     "metadata": {},
     "outputs": [
      {
       "output_type": "stream",
       "stream": "stdout",
       "text": "Principle is "
      },
      {
       "output_type": "stream",
       "stream": "stdout",
       "text": "100.000000000000 and compound result is 105.094533691406 \n"
      }
     ],
     "prompt_number": 13
    },
    {
     "cell_type": "code",
     "collapsed": false,
     "input": "comp(365)",
     "language": "python",
     "metadata": {},
     "outputs": [
      {
       "output_type": "stream",
       "stream": "stdout",
       "text": "Principle is "
      },
      {
       "output_type": "stream",
       "stream": "stdout",
       "text": "100.000000000000 and compound result is 105.126749646745 \n"
      }
     ],
     "prompt_number": 14
    },
    {
     "cell_type": "code",
     "collapsed": false,
     "input": "comp(10000)",
     "language": "python",
     "metadata": {},
     "outputs": [
      {
       "output_type": "stream",
       "stream": "stdout",
       "text": "Principle is "
      },
      {
       "output_type": "stream",
       "stream": "stdout",
       "text": "100.000000000000 and compound result is 105.127096496793 \n"
      }
     ],
     "prompt_number": 15
    },
    {
     "cell_type": "code",
     "collapsed": false,
     "input": "comp(20000)",
     "language": "python",
     "metadata": {},
     "outputs": [
      {
       "output_type": "stream",
       "stream": "stdout",
       "text": "Principle is "
      },
      {
       "output_type": "stream",
       "stream": "stdout",
       "text": "100.000000000000 and compound result is 105.127103066970 \n"
      }
     ],
     "prompt_number": 16
    }
   ],
   "metadata": {}
  }
 ]
}